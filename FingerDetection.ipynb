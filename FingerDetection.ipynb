{
 "cells": [
  {
   "cell_type": "code",
   "execution_count": 1,
   "metadata": {},
   "outputs": [],
   "source": [
    "import numpy as np\n",
    "import cv2 as cv\n",
    "from sklearn.metrics import pairwise                                                                                                                                                                                                                                    # Yatharth Jain"
   ]
  },
  {
   "cell_type": "code",
   "execution_count": 2,
   "metadata": {},
   "outputs": [],
   "source": [
    "background = None\n",
    "accumulated_weight = 0.5\n",
    "\n",
    "roi_top = 20\n",
    "roi_bottom = 300\n",
    "roi_left = 600\n",
    "roi_right = 300"
   ]
  },
  {
   "cell_type": "code",
   "execution_count": 3,
   "metadata": {},
   "outputs": [],
   "source": [
    "def calc_accum_avg(frame, accumulated_weight):\n",
    "    global background\n",
    "    if background is None:\n",
    "        background = frame.copy().astype(\"float\")\n",
    "        return None\n",
    "    cv.accumulateWeighted(frame, background, accumulated_weight)"
   ]
  },
  {
   "cell_type": "code",
   "execution_count": 4,
   "metadata": {},
   "outputs": [],
   "source": [
    "def segment(frame, threshold=25):\n",
    "    diff = cv.absdiff(background.astype(\"uint8\"), frame)\n",
    "    ret , thresholded = cv.threshold(diff, threshold, 255, cv.THRESH_BINARY)\n",
    "    contours, hierarchy = cv.findContours(thresholded.copy(), cv.RETR_EXTERNAL, cv.CHAIN_APPROX_SIMPLE)\n",
    "    if len(contours) == 0:\n",
    "        return None\n",
    "    else:\n",
    "        hand_segment = max(contours, key=cv.contourArea)\n",
    "        return (thresholded, hand_segment)"
   ]
  },
  {
   "cell_type": "code",
   "execution_count": 5,
   "metadata": {},
   "outputs": [],
   "source": [
    "def count_fingers(threshold, hand_segment):\n",
    "    conv_hull = cv.convexHull(hand_segment)\n",
    "    \n",
    "    top = tuple(conv_hull[conv_hull[:, :, 1].argmin()][0])\n",
    "    bottom = tuple(conv_hull[conv_hull[:, :, 1].argmax()][0])\n",
    "    left = tuple(conv_hull[conv_hull[:, :, 0].argmin()][0])\n",
    "    right = tuple(conv_hull[conv_hull[:, :, 0].argmax()][0])\n",
    "    cX = (left[0] + right[0]) // 2\n",
    "    cY = (top[1] + bottom[1]) // 2\n",
    "    \n",
    "    distance = pairwise.euclidean_distances([(cX, cY)], Y=[left, right, top, bottom])[0]\n",
    "    max_distance = distance.max()\n",
    "    radius = int(0.8 * max_distance)\n",
    "    circumference = (2 * np.pi * radius)\n",
    "    \n",
    "    circular_roi = np.zeros(threshold.shape[:2], dtype=\"uint8\")\n",
    "    cv.circle(circular_roi, (cX, cY), radius, 255, 10)\n",
    "    circular_roi = cv.bitwise_and(threshold, threshold, mask=circular_roi)\n",
    "    countours, hierarchy = cv.findContours(circular_roi.copy(), cv.RETR_EXTERNAL, cv.CHAIN_APPROX_NONE)\n",
    "    \n",
    "    count = 0\n",
    "    for ctr in countours:\n",
    "        (x, y, w, h) = cv.boundingRect(ctr)\n",
    "        out_of_wrist = (cY + (cY / 3)) > (y + h)\n",
    "        limit_points = ((circumference / 3) > ctr.shape[0])\n",
    "        if out_of_wrist and limit_points:\n",
    "            count += 1\n",
    "    return count"
   ]
  },
  {
   "cell_type": "code",
   "execution_count": 9,
   "metadata": {},
   "outputs": [],
   "source": [
    "cam = cv.VideoCapture(0)\n",
    "num_frame = 0\n",
    "while True:\n",
    "    ret,frame = cam.read()\n",
    "    frame_copy = frame.copy()\n",
    "    roi=frame[roi_top:roi_bottom, roi_right:roi_left]\n",
    "    gray = cv.cvtColor(roi, cv.COLOR_BGR2GRAY)\n",
    "    gray = cv.GaussianBlur(gray, (7, 7), 0)\n",
    "    if num_frame < 60:\n",
    "        calc_accum_avg(gray, accumulated_weight)\n",
    "        if num_frame <= 59:\n",
    "            cv.putText(frame_copy, \"WAIT!!!\", (200, 300), cv.FONT_HERSHEY_SIMPLEX, 1, (0, 0, 255), 2)\n",
    "            cv.imshow(\"Finger Count\", frame_copy)\n",
    "    else:\n",
    "        hand = segment(gray)\n",
    "        if hand:\n",
    "            threshold, hand_segment = hand\n",
    "            cv.drawContours(frame_copy, [hand_segment + (roi_right, roi_top)], -1, (255, 0, 0), 5)\n",
    "            fingers = count_fingers(threshold, hand_segment)\n",
    "            cv.putText(frame_copy, str(fingers), (70, 45), cv.FONT_HERSHEY_SIMPLEX, 1, (0, 0, 255), 2)\n",
    "            cv.imshow(\"Thresholded\", threshold)\n",
    "    cv.rectangle(frame_copy, (roi_left, roi_top), (roi_right, roi_bottom), (0, 0, 255), 5)\n",
    "    num_frame+=1\n",
    "    cv.imshow(\"Finger Count\", frame_copy)\n",
    "    if cv.waitKey(1) & 0xFF == 27:\n",
    "        break\n",
    "cam.release()\n",
    "cv.destroyAllWindows()"
   ]
  }
 ],
 "metadata": {
  "kernelspec": {
   "display_name": "base",
   "language": "python",
   "name": "python3"
  },
  "language_info": {
   "codemirror_mode": {
    "name": "ipython",
    "version": 3
   },
   "file_extension": ".py",
   "mimetype": "text/x-python",
   "name": "python",
   "nbconvert_exporter": "python",
   "pygments_lexer": "ipython3",
   "version": "3.9.13 (main, Aug 25 2022, 23:51:50) [MSC v.1916 64 bit (AMD64)]"
  },
  "orig_nbformat": 4,
  "vscode": {
   "interpreter": {
    "hash": "ad2bdc8ecc057115af97d19610ffacc2b4e99fae6737bb82f5d7fb13d2f2c186"
   }
  }
 },
 "nbformat": 4,
 "nbformat_minor": 2
}
